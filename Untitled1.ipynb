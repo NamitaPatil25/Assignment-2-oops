{
 "cells": [
  {
   "cell_type": "code",
   "execution_count": 10,
   "id": "a35d7664",
   "metadata": {},
   "outputs": [
    {
     "name": "stdout",
     "output_type": "stream",
     "text": [
      "Peee Peee\n"
     ]
    },
    {
     "ename": "AttributeError",
     "evalue": "'Thar' object has no attribute 'speed'",
     "output_type": "error",
     "traceback": [
      "\u001b[1;31m---------------------------------------------------------------------------\u001b[0m",
      "\u001b[1;31mAttributeError\u001b[0m                            Traceback (most recent call last)",
      "Cell \u001b[1;32mIn[10], line 26\u001b[0m\n\u001b[0;32m     22\u001b[0m         \u001b[38;5;28msuper\u001b[39m()\u001b[38;5;241m.\u001b[39mget_speed()\n\u001b[0;32m     24\u001b[0m audi\u001b[38;5;241m=\u001b[39m  Thar()\n\u001b[1;32m---> 26\u001b[0m \u001b[43maudi\u001b[49m\u001b[38;5;241;43m.\u001b[39;49m\u001b[43mshow\u001b[49m\u001b[43m(\u001b[49m\u001b[43m)\u001b[49m\n",
      "Cell \u001b[1;32mIn[10], line 22\u001b[0m, in \u001b[0;36mThar.show\u001b[1;34m(self)\u001b[0m\n\u001b[0;32m     20\u001b[0m \u001b[38;5;28;01mdef\u001b[39;00m \u001b[38;5;21mshow\u001b[39m(\u001b[38;5;28mself\u001b[39m):\n\u001b[0;32m     21\u001b[0m     \u001b[38;5;28msuper\u001b[39m()\u001b[38;5;241m.\u001b[39msound()\n\u001b[1;32m---> 22\u001b[0m     \u001b[38;5;28;43msuper\u001b[39;49m\u001b[43m(\u001b[49m\u001b[43m)\u001b[49m\u001b[38;5;241;43m.\u001b[39;49m\u001b[43mget_speed\u001b[49m\u001b[43m(\u001b[49m\u001b[43m)\u001b[49m\n",
      "Cell \u001b[1;32mIn[10], line 12\u001b[0m, in \u001b[0;36mCar.get_speed\u001b[1;34m(self)\u001b[0m\n\u001b[0;32m     11\u001b[0m \u001b[38;5;28;01mdef\u001b[39;00m \u001b[38;5;21mget_speed\u001b[39m(\u001b[38;5;28mself\u001b[39m):\n\u001b[1;32m---> 12\u001b[0m     \u001b[38;5;28mprint\u001b[39m(\u001b[38;5;124m\"\u001b[39m\u001b[38;5;124mMaximum speed is \u001b[39m\u001b[38;5;132;01m{}\u001b[39;00m\u001b[38;5;124m\"\u001b[39m\u001b[38;5;241m.\u001b[39mformat(\u001b[38;5;28;43mself\u001b[39;49m\u001b[38;5;241;43m.\u001b[39;49m\u001b[43mspeed\u001b[49m))\n",
      "\u001b[1;31mAttributeError\u001b[0m: 'Thar' object has no attribute 'speed'"
     ]
    }
   ],
   "source": [
    "class Car:\n",
    "    \n",
    "    def __init__(self,name,price,color,speed):\n",
    "        self.name=name\n",
    "        self.price=price\n",
    "        self.color=color\n",
    "        self.speed=speed\n",
    "        \n",
    "    def sound(self):\n",
    "        print(\"Peee Peee\")\n",
    "        \n",
    "    def get_speed(self):\n",
    "        print(\"Maximum speed is {}\".format(self.speed))\n",
    "        \n",
    "    def display(self):\n",
    "        self.sound()\n",
    "        self.get_speed()\n",
    "        \n",
    "        \n",
    "class Thar(Car):\n",
    "    def show(self):\n",
    "        super().sound()\n",
    "        super().get_speed()\n",
    "        \n",
    "audi=Thar('Audi','50,000','Mattblack')\n",
    "\n",
    "audi.show()\n",
    "        \n",
    "        \n",
    "        \n",
    "        "
   ]
  },
  {
   "cell_type": "code",
   "execution_count": 9,
   "id": "63e240af",
   "metadata": {},
   "outputs": [
    {
     "name": "stdout",
     "output_type": "stream",
     "text": [
      "enter the numerator:12\n",
      "enter the denominator:0\n",
      "Division is not possible......!!!!\n"
     ]
    }
   ],
   "source": [
    "N=int(input(\"enter the numerator:\"))\n",
    "D=int(input(\"enter the denominator:\"))\n",
    "\n",
    "try:\n",
    "    z=N/D\n",
    "    print(z)\n",
    "    \n",
    "except ZeroDivisionError:\n",
    "    print(\"Division is not possible......!!!!\")"
   ]
  },
  {
   "cell_type": "code",
   "execution_count": null,
   "id": "b2f102a4",
   "metadata": {},
   "outputs": [],
   "source": []
  }
 ],
 "metadata": {
  "kernelspec": {
   "display_name": "Python 3 (ipykernel)",
   "language": "python",
   "name": "python3"
  },
  "language_info": {
   "codemirror_mode": {
    "name": "ipython",
    "version": 3
   },
   "file_extension": ".py",
   "mimetype": "text/x-python",
   "name": "python",
   "nbconvert_exporter": "python",
   "pygments_lexer": "ipython3",
   "version": "3.10.9"
  }
 },
 "nbformat": 4,
 "nbformat_minor": 5
}
